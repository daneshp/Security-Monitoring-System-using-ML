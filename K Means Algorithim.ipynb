{
 "cells": [
  {
   "cell_type": "markdown",
   "metadata": {},
   "source": [
    "# <center>Security Monitoring System</center>\n",
    "\n",
    "#### <center>Most cyber solution solutions don't distinguish between everyday malware and advanced targeted attacks. Important alerts get lost in the noise of unimportant alerts, allowing attacks to breach security.  </center>"
   ]
  },
  {
   "cell_type": "markdown",
   "metadata": {},
   "source": [
    "The solution is divided into multiple steps which are:\n",
    "1. Convert the given Dataset from Json to CSV along with wrangling of Data\n",
    "2. Preprocessing of Data which included feature engineering on Date-Time, dealing with categorical features, encoding the data and scaling the data.\n",
    "3. Used K-Means for clustering similar data groups and patterns to identify outliers in dataset\n",
    "4. Used Principal Component Analysis in order to visualise cluster of datasets.\n",
    "5. Used Long Short Term Memory (LSTM) Networks inorder to identify malicious patterns in time series log."
   ]
  },
  {
   "cell_type": "code",
   "execution_count": 13,
   "metadata": {},
   "outputs": [],
   "source": [
    "#Importing Libraries\n",
    "\n",
    "%matplotlib inline\n",
    "import matplotlib.pyplot as plt\n",
    "import numpy as np\n",
    "import pandas as pd\n",
    "\n",
    "from  sklearn.cross_validation import train_test_split\n",
    "from sklearn.preprocessing import LabelEncoder, OneHotEncoder\n",
    "from sklearn.cluster import KMeans\n",
    "from sklearn.metrics import accuracy_score\n",
    "from sklearn.decomposition import PCA\n",
    "from sklearn.metrics import silhouette_score\n",
    "from sklearn import metrics\n",
    "from scipy.spatial.distance import cdist\n"
   ]
  },
  {
   "cell_type": "markdown",
   "metadata": {},
   "source": [
    "## Step 1: Convert the given Dataset from Json to CSV\n",
    "\n",
    "#### Run the following R code to convert the required JSON dataseet into a CSV file. \n",
    "\n",
    "#Install required R packages\n",
    "\n",
    "library(jsonlite)\n",
    "\n",
    "#Read the JSON file \n",
    "\n",
    "log<- fromJSON(\"output.json\", flatten=TRUE)\n",
    "\n",
    "#Store each data frame in a log table\n",
    "\n",
    "log_table = data.frame(log)\n",
    "\n",
    "#Write the table to a CSV file\n",
    "\n",
    "write.csv(log_table[,c(1:10)], file=\"output.csv\",row.names=FALSE)\n"
   ]
  },
  {
   "cell_type": "code",
   "execution_count": 5,
   "metadata": {},
   "outputs": [
    {
     "name": "stderr",
     "output_type": "stream",
     "text": [
      "/opt/conda/envs/DSX-Python35/lib/python3.5/site-packages/IPython/core/interactiveshell.py:2698: DtypeWarning: Columns (13,14,15,16,17,18,19,20,21,22,23,24) have mixed types. Specify dtype option on import or set low_memory=False.\n",
      "  interactivity=interactivity, compiler=compiler, result=result)\n"
     ]
    },
    {
     "data": {
      "text/html": [
       "<div>\n",
       "<style scoped>\n",
       "    .dataframe tbody tr th:only-of-type {\n",
       "        vertical-align: middle;\n",
       "    }\n",
       "\n",
       "    .dataframe tbody tr th {\n",
       "        vertical-align: top;\n",
       "    }\n",
       "\n",
       "    .dataframe thead th {\n",
       "        text-align: right;\n",
       "    }\n",
       "</style>\n",
       "<table border=\"1\" class=\"dataframe\">\n",
       "  <thead>\n",
       "    <tr style=\"text-align: right;\">\n",
       "      <th></th>\n",
       "      <th>Keywords</th>\n",
       "      <th>Source</th>\n",
       "      <th>Source_AddrScheme</th>\n",
       "      <th>Source_IP</th>\n",
       "      <th>Day</th>\n",
       "      <th>Month</th>\n",
       "      <th>Year</th>\n",
       "      <th>Hour</th>\n",
       "      <th>Min</th>\n",
       "      <th>Sec</th>\n",
       "      <th>...</th>\n",
       "      <th>Unnamed: 15</th>\n",
       "      <th>Unnamed: 16</th>\n",
       "      <th>Unnamed: 17</th>\n",
       "      <th>Unnamed: 18</th>\n",
       "      <th>Unnamed: 19</th>\n",
       "      <th>Unnamed: 20</th>\n",
       "      <th>Unnamed: 21</th>\n",
       "      <th>Unnamed: 22</th>\n",
       "      <th>Unnamed: 23</th>\n",
       "      <th>Unnamed: 24</th>\n",
       "    </tr>\n",
       "  </thead>\n",
       "  <tbody>\n",
       "    <tr>\n",
       "      <th>0</th>\n",
       "      <td>Warning</td>\n",
       "      <td>VMwareTools</td>\n",
       "      <td>STATIC</td>\n",
       "      <td>192.168.1.45</td>\n",
       "      <td>14</td>\n",
       "      <td>3</td>\n",
       "      <td>2018</td>\n",
       "      <td>15</td>\n",
       "      <td>39</td>\n",
       "      <td>47</td>\n",
       "      <td>...</td>\n",
       "      <td>NaN</td>\n",
       "      <td>NaN</td>\n",
       "      <td>NaN</td>\n",
       "      <td>NaN</td>\n",
       "      <td>NaN</td>\n",
       "      <td>NaN</td>\n",
       "      <td>NaN</td>\n",
       "      <td>NaN</td>\n",
       "      <td>NaN</td>\n",
       "      <td>NaN</td>\n",
       "    </tr>\n",
       "    <tr>\n",
       "      <th>1</th>\n",
       "      <td>Warning</td>\n",
       "      <td>VMwareTools</td>\n",
       "      <td>STATIC</td>\n",
       "      <td>192.168.1.45</td>\n",
       "      <td>14</td>\n",
       "      <td>3</td>\n",
       "      <td>2018</td>\n",
       "      <td>15</td>\n",
       "      <td>39</td>\n",
       "      <td>48</td>\n",
       "      <td>...</td>\n",
       "      <td>NaN</td>\n",
       "      <td>NaN</td>\n",
       "      <td>NaN</td>\n",
       "      <td>NaN</td>\n",
       "      <td>NaN</td>\n",
       "      <td>NaN</td>\n",
       "      <td>NaN</td>\n",
       "      <td>NaN</td>\n",
       "      <td>NaN</td>\n",
       "      <td>NaN</td>\n",
       "    </tr>\n",
       "    <tr>\n",
       "      <th>2</th>\n",
       "      <td>Warning</td>\n",
       "      <td>VMwareTools</td>\n",
       "      <td>STATIC</td>\n",
       "      <td>192.168.1.45</td>\n",
       "      <td>14</td>\n",
       "      <td>3</td>\n",
       "      <td>2018</td>\n",
       "      <td>15</td>\n",
       "      <td>39</td>\n",
       "      <td>31</td>\n",
       "      <td>...</td>\n",
       "      <td>NaN</td>\n",
       "      <td>NaN</td>\n",
       "      <td>NaN</td>\n",
       "      <td>NaN</td>\n",
       "      <td>NaN</td>\n",
       "      <td>NaN</td>\n",
       "      <td>NaN</td>\n",
       "      <td>NaN</td>\n",
       "      <td>NaN</td>\n",
       "      <td>NaN</td>\n",
       "    </tr>\n",
       "    <tr>\n",
       "      <th>3</th>\n",
       "      <td>Warning</td>\n",
       "      <td>VMwareTools</td>\n",
       "      <td>STATIC</td>\n",
       "      <td>192.168.1.45</td>\n",
       "      <td>14</td>\n",
       "      <td>3</td>\n",
       "      <td>2018</td>\n",
       "      <td>15</td>\n",
       "      <td>39</td>\n",
       "      <td>34</td>\n",
       "      <td>...</td>\n",
       "      <td>NaN</td>\n",
       "      <td>NaN</td>\n",
       "      <td>NaN</td>\n",
       "      <td>NaN</td>\n",
       "      <td>NaN</td>\n",
       "      <td>NaN</td>\n",
       "      <td>NaN</td>\n",
       "      <td>NaN</td>\n",
       "      <td>NaN</td>\n",
       "      <td>NaN</td>\n",
       "    </tr>\n",
       "    <tr>\n",
       "      <th>4</th>\n",
       "      <td>Warning</td>\n",
       "      <td>VMwareTools</td>\n",
       "      <td>STATIC</td>\n",
       "      <td>192.168.1.45</td>\n",
       "      <td>14</td>\n",
       "      <td>3</td>\n",
       "      <td>2018</td>\n",
       "      <td>15</td>\n",
       "      <td>42</td>\n",
       "      <td>14</td>\n",
       "      <td>...</td>\n",
       "      <td>NaN</td>\n",
       "      <td>NaN</td>\n",
       "      <td>NaN</td>\n",
       "      <td>NaN</td>\n",
       "      <td>NaN</td>\n",
       "      <td>NaN</td>\n",
       "      <td>NaN</td>\n",
       "      <td>NaN</td>\n",
       "      <td>NaN</td>\n",
       "      <td>NaN</td>\n",
       "    </tr>\n",
       "  </tbody>\n",
       "</table>\n",
       "<p>5 rows × 25 columns</p>\n",
       "</div>"
      ],
      "text/plain": [
       "  Keywords       Source Source_AddrScheme     Source_IP  Day  Month  Year  \\\n",
       "0  Warning  VMwareTools            STATIC  192.168.1.45   14      3  2018   \n",
       "1  Warning  VMwareTools            STATIC  192.168.1.45   14      3  2018   \n",
       "2  Warning  VMwareTools            STATIC  192.168.1.45   14      3  2018   \n",
       "3  Warning  VMwareTools            STATIC  192.168.1.45   14      3  2018   \n",
       "4  Warning  VMwareTools            STATIC  192.168.1.45   14      3  2018   \n",
       "\n",
       "   Hour  Min  Sec     ...     Unnamed: 15  Unnamed: 16 Unnamed: 17  \\\n",
       "0    15   39   47     ...             NaN          NaN         NaN   \n",
       "1    15   39   48     ...             NaN          NaN         NaN   \n",
       "2    15   39   31     ...             NaN          NaN         NaN   \n",
       "3    15   39   34     ...             NaN          NaN         NaN   \n",
       "4    15   42   14     ...             NaN          NaN         NaN   \n",
       "\n",
       "  Unnamed: 18 Unnamed: 19 Unnamed: 20 Unnamed: 21 Unnamed: 22 Unnamed: 23  \\\n",
       "0         NaN         NaN         NaN         NaN         NaN         NaN   \n",
       "1         NaN         NaN         NaN         NaN         NaN         NaN   \n",
       "2         NaN         NaN         NaN         NaN         NaN         NaN   \n",
       "3         NaN         NaN         NaN         NaN         NaN         NaN   \n",
       "4         NaN         NaN         NaN         NaN         NaN         NaN   \n",
       "\n",
       "  Unnamed: 24  \n",
       "0         NaN  \n",
       "1         NaN  \n",
       "2         NaN  \n",
       "3         NaN  \n",
       "4         NaN  \n",
       "\n",
       "[5 rows x 25 columns]"
      ]
     },
     "execution_count": 5,
     "metadata": {},
     "output_type": "execute_result"
    }
   ],
   "source": [
    "#Import CSV data\n",
    "\n",
    "import sys\n",
    "import types\n",
    "import pandas as pd\n",
    "from botocore.client import Config\n",
    "import ibm_boto3\n",
    "\n",
    "def __iter__(self): return 0\n",
    "\n",
    "# @hidden_cell\n",
    "# The following code accesses a file in your IBM Cloud Object Storage. It includes your credentials.\n",
    "# You might want to remove those credentials before you share your notebook.\n",
    "client_8681a3baf2ff4fdc8fc7cb341e6faff6 = ibm_boto3.client(service_name='s3',\n",
    "    ibm_api_key_id='2B1RbhJ9pdEcoF21dlXb9fukDuVV_p5e_Z475-ZFcJnO',\n",
    "    ibm_auth_endpoint=\"https://iam.ng.bluemix.net/oidc/token\",\n",
    "    config=Config(signature_version='oauth'),\n",
    "    endpoint_url='https://s3-api.us-geo.objectstorage.service.networklayer.com')\n",
    "\n",
    "body = client_8681a3baf2ff4fdc8fc7cb341e6faff6.get_object(Bucket='kmeansclusteringwithdnnb7d592a69aa14a2fbdca2a069a215a34',Key='a1Finalok_2.csv')['Body']\n",
    "# add missing __iter__ method, so pandas accepts body as file-like object\n",
    "if not hasattr(body, \"__iter__\"): body.__iter__ = types.MethodType( __iter__, body )\n",
    "\n",
    "df_data_2 = pd.read_csv(body, encoding = 'latin1')\n",
    "df_data_2.head()\n",
    "\n"
   ]
  },
  {
   "cell_type": "markdown",
   "metadata": {},
   "source": [
    "## Step 2: Preprocessing of Data which included feature engineering on Date-Time, dealing with categorical features, encoding the data and scaling the data.\n",
    "\n",
    "Feature Engineering- Extracted the Date-Time parameter and splitted each into DD-MM-YYYY and Hours-Minute-Seconds\n",
    "\n",
    "Categorical Features & encoding the data - Categorising each keywords and labelled encoding the features ( Keywords, Source , Source_AddrScheme, Hostname) and normalized the same using One Hot Encoder"
   ]
  },
  {
   "cell_type": "code",
   "execution_count": 6,
   "metadata": {},
   "outputs": [],
   "source": [
    "#Entering default for NULL entries\n",
    "\n",
    "NewData = df_data_2.iloc[:,:13].values"
   ]
  },
  {
   "cell_type": "code",
   "execution_count": 9,
   "metadata": {},
   "outputs": [],
   "source": [
    "# Binary Encoder\n",
    "\n",
    "dataset = df_data_2\n",
    "dataset.drop('Source_IP',axis=1, inplace=True)\n",
    "dataset.drop('Year',axis=1, inplace=True)\n",
    "X = dataset.iloc[:,0:10].values\n",
    "from sklearn.preprocessing import LabelEncoder, OneHotEncoder\n",
    "\n",
    "le_x = LabelEncoder()\n",
    "X[:,0] = le_x.fit_transform(X[:,0])\n",
    "\n",
    "lex_x1 = LabelEncoder()\n",
    "X[:,1] = lex_x1.fit_transform(X[:,1])\n",
    "\n",
    "lex_x2 = LabelEncoder()\n",
    "X[:,2] = lex_x2.fit_transform(X[:,2])\n",
    "\n",
    "lex_x3 = LabelEncoder()\n",
    "X[:,8] = lex_x3.fit_transform(X[:,8])\n",
    "\n",
    "onehotencoder = OneHotEncoder(categorical_features=\"all\")\n",
    "X = onehotencoder.fit_transform(X).toarray()"
   ]
  },
  {
   "cell_type": "markdown",
   "metadata": {},
   "source": [
    "## Step 3: Used K-Means for clustering similar data groups and patterns to identify outliers in dataset\n"
   ]
  },
  {
   "cell_type": "code",
   "execution_count": 14,
   "metadata": {},
   "outputs": [
    {
     "name": "stdout",
     "output_type": "stream",
     "text": [
      "Clusters: 2\n",
      "The average silhouette_score is :1.81002379934\n",
      "Clusters: 4\n",
      "The average silhouette_score is :1.74584744919\n",
      "Clusters: 6\n",
      "The average silhouette_score is :1.67965562353\n",
      "Clusters: 8\n",
      "The average silhouette_score is :1.6172304416\n",
      "Clusters: 10\n",
      "The average silhouette_score is :1.57293885543\n",
      "Clusters: 12\n",
      "The average silhouette_score is :1.51731007333\n",
      "Clusters: 16\n",
      "The average silhouette_score is :1.46332360946\n",
      "Clusters: 18\n",
      "The average silhouette_score is :1.45310414224\n",
      "Clusters: 24\n",
      "The average silhouette_score is :1.40718456179\n",
      "Clusters: 28\n",
      "The average silhouette_score is :1.37722443496\n",
      "Clusters: 32\n",
      "The average silhouette_score is :1.35450758977\n"
     ]
    }
   ],
   "source": [
    "#Kmeans for hyperparameter selection\n",
    "\n",
    "Kr = [2, 4, 6, 8, 10, 12, 16, 18, 24, 28, 32]\n",
    "distortions = []\n",
    "\n",
    "for k in Kr:\n",
    "    print(\"Clusters: \"+str(k))\n",
    "    kmeans_model = KMeans(n_clusters= k, init = 'k-means++', n_init = 10, max_iter = 500).fit(X)\n",
    "    label = kmeans_model.labels_\n",
    "    distortions.append(sum(np.min(cdist(X, kmeans_model.cluster_centers_, 'euclidean'), axis=1)) / X.shape[0])\n",
    "    print(\"The average silhouette_score is :\"+str(sum(np.min(cdist(X, kmeans_model.cluster_centers_, 'euclidean'), axis=1)) / X.shape[0]))\n"
   ]
  },
  {
   "cell_type": "code",
   "execution_count": 16,
   "metadata": {},
   "outputs": [
    {
     "data": {
      "text/plain": [
       "[<matplotlib.lines.Line2D at 0x2b62b1eefac8>]"
      ]
     },
     "execution_count": 16,
     "metadata": {},
     "output_type": "execute_result"
    },
    {
     "data": {
      "image/png": "[encoded data removed]",
      "text/plain": [
       "<matplotlib.figure.Figure at 0x2b62b1e71c88>"
      ]
     },
     "metadata": {},
     "output_type": "display_data"
    }
   ],
   "source": [
    "#Plot the data and try to find a Elbow in the graph \n",
    "plt.plot(distortions)"
   ]
  },
  {
   "cell_type": "code",
   "execution_count": 83,
   "metadata": {},
   "outputs": [],
   "source": [
    "# Using optimum Number of Clusters = 8\n",
    "\n",
    "kmeans_model = KMeans(n_clusters= 8, init = 'k-means++', n_init = 20, max_iter = 2000).fit(X)"
   ]
  },
  {
   "cell_type": "code",
   "execution_count": 84,
   "metadata": {},
   "outputs": [
    {
     "name": "stdout",
     "output_type": "stream",
     "text": [
      "Labels : [1 1 1 ..., 3 3 3]\n",
      "Labels Shape: (84141,)\n",
      "Cluster Points : [[  1.04354459e-18  -7.94178091e-18  -7.94178091e-18 ...,  -1.06685494e-16\n",
      "    4.17417836e-18   1.04354459e-18]\n",
      " [  5.60522407e-05   1.68156722e-04   1.68156722e-04 ...,   1.68156722e-03\n",
      "    1.68156722e-04   4.39440693e-18]\n",
      " [  1.08081404e-18  -1.16145158e-17  -1.16145158e-17 ...,   2.69759914e-04\n",
      "    4.32325616e-18   1.08081404e-18]\n",
      " ..., \n",
      " [  1.07742591e-18  -1.10995197e-17  -1.10995197e-17 ...,   1.68634064e-03\n",
      "    2.81056773e-04   1.07742591e-18]\n",
      " [  9.35124374e-19   2.27682456e-18   2.27682456e-18 ...,   6.02816408e-17\n",
      "    3.74049750e-18   9.35124374e-19]\n",
      " [  1.07742591e-18  -1.10859672e-17  -1.10859672e-17 ...,   1.68681473e-03\n",
      "    4.30970364e-18   1.07742591e-18]]\n",
      "Squared Distance : 227449.60539\n",
      "Output Shape(84141, 1)\n"
     ]
    }
   ],
   "source": [
    "# Output Parameters of K-Mean\n",
    "\n",
    "labels = kmeans_model.labels_\n",
    "cluster_centers = kmeans_model.cluster_centers_\n",
    "squared_distance = kmeans_model.inertia_\n",
    "Prediction = kmeans_model.predict(X)\n",
    "\n",
    "Prediction = np.reshape(Prediction, (-1,1))\n",
    "print(\"Labels : \"+str(labels))\n",
    "print(\"Labels Shape: \"+str(labels.shape))\n",
    "print(\"Cluster Points : \"+str(cluster_centers))\n",
    "print(\"Squared Distance : \"+str(squared_distance))\n",
    "print(\"Output Shape\"+str(Prediction.shape))"
   ]
  },
  {
   "cell_type": "markdown",
   "metadata": {},
   "source": [
    "## Step 4: Used Principal Component Analysis in order to visualise cluster of datasets."
   ]
  },
  {
   "cell_type": "code",
   "execution_count": 85,
   "metadata": {},
   "outputs": [
    {
     "name": "stdout",
     "output_type": "stream",
     "text": [
      "Final Shape: (84141, 3)\n"
     ]
    }
   ],
   "source": [
    "# Visualize the Data\n",
    "\n",
    "pca = PCA(n_components = 2)\n",
    "X_New = pca.fit_transform(X)\n",
    "\n",
    "final = np.concatenate((X_New, Prediction), axis = 1)\n",
    "print(\"Final Shape: \"+str(final.shape))\n",
    "\n"
   ]
  },
  {
   "cell_type": "code",
   "execution_count": 86,
   "metadata": {},
   "outputs": [
    {
     "data": {
      "image/png": "[encoded data removed]",
      "text/plain": [
       "<matplotlib.figure.Figure at 0x2b62b21728d0>"
      ]
     },
     "metadata": {},
     "output_type": "display_data"
    }
   ],
   "source": [
    "plt.figure()\n",
    "\n",
    "for i in range(16):\n",
    "    indexes = final[:,2] == i\n",
    "    plt.scatter(final[indexes, 0], final[indexes, 1], s = 2)\n",
    "\n",
    "plt.show()"
   ]
  },
  {
   "cell_type": "code",
   "execution_count": 87,
   "metadata": {},
   "outputs": [
    {
     "name": "stdout",
     "output_type": "stream",
     "text": [
      "Retention of variance:\n",
      "[ 1.76872628  0.18377539]\n",
      "[ 0.34947549  0.03631144]\n",
      "[ 0.34947549  0.38578692]\n"
     ]
    }
   ],
   "source": [
    "print(\"Retention of variance:\")\n",
    "print(pca.explained_variance_)\n",
    "print(pca.explained_variance_ratio_)\n",
    "print(pca.explained_variance_ratio_.cumsum())"
   ]
  },
  {
   "cell_type": "code",
   "execution_count": 93,
   "metadata": {},
   "outputs": [],
   "source": [
    "# Output the clustered visualised data and perform manual analysis to determine anomalies and patterns in the data\n",
    "\n",
    "for i in range(8):\n",
    "    indexes = final[:,2] == i\n",
    "    # df_data_2[indexes] 8 outputs"
   ]
  },
  {
   "cell_type": "markdown",
   "metadata": {},
   "source": [
    "## Step 5: Used Long Short Term Memory (LSTM) Networks inorder to identify malicious patterns in time series log"
   ]
  },
  {
   "cell_type": "code",
   "execution_count": 94,
   "metadata": {},
   "outputs": [
    {
     "name": "stderr",
     "output_type": "stream",
     "text": [
      "Using TensorFlow backend.\n"
     ]
    }
   ],
   "source": [
    "# Concatenating Kmeans Predictions with Input Data to create input Data for RNN Classification\n",
    "\n",
    "import tensorflow as tf\n",
    "from keras.models import Sequential\n",
    "from keras.layers import Dense\n",
    "from keras.layers.recurrent import LSTM\n",
    "from keras.layers.core import Dense, Activation"
   ]
  },
  {
   "cell_type": "code",
   "execution_count": 95,
   "metadata": {},
   "outputs": [
    {
     "name": "stdout",
     "output_type": "stream",
     "text": [
      "Train X(84141, 231)\n",
      "Train Y(84141, 1)\n"
     ]
    }
   ],
   "source": [
    "# Creating Train_x and Train_Y\n",
    "\n",
    "Train_x = X\n",
    "Train_y = Prediction\n",
    "\n",
    "print(\"Train X\"+str(Train_x.shape))\n",
    "print(\"Train Y\"+str(Train_y.shape))"
   ]
  },
  {
   "cell_type": "code",
   "execution_count": 101,
   "metadata": {},
   "outputs": [],
   "source": [
    "# Building function model\n",
    "def build_model(layers = [231, 8, 100, 50]):\n",
    "    \n",
    "    model = Sequential()\n",
    "    \n",
    "    model.add(LSTM(input_dim=layers[0],output_dim=layers[1],input_shape=Train_x.shape,return_sequences=True))\n",
    "    \n",
    "    model.add(LSTM(layers[2], return_sequences=False))\n",
    "    \n",
    "    model.add(Dense(output_dim=layers[3]))\n",
    "    \n",
    "    model.add(Activation(\"softmax\"))\n",
    "    model.compile(loss=\"mse\", optimizer=\"adam\")\n",
    "    \n",
    "    return model"
   ]
  },
  {
   "cell_type": "code",
   "execution_count": null,
   "metadata": {},
   "outputs": [],
   "source": [
    "model = build_model()\n",
    "\n",
    "model.fit(Train_x,Train_y, batch_size=64, nb_epoch=5000, validation_split=0.05)"
   ]
  },
  {
   "cell_type": "code",
   "execution_count": null,
   "metadata": {},
   "outputs": [],
   "source": []
  }
 ],
 "metadata": {
  "kernelspec": {
   "display_name": "Python 3.5",
   "language": "python",
   "name": "python3"
  },
  "language_info": {
   "codemirror_mode": {
    "name": "ipython",
    "version": 3
   },
   "file_extension": ".py",
   "mimetype": "text/x-python",
   "name": "python",
   "nbconvert_exporter": "python",
   "pygments_lexer": "ipython3",
   "version": "3.5.4"
  }
 },
 "nbformat": 4,
 "nbformat_minor": 1
}
